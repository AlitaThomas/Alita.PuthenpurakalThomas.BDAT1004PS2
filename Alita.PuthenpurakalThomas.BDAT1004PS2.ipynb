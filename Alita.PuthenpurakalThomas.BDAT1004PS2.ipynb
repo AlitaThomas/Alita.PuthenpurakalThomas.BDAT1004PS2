{
 "cells": [
  {
   "cell_type": "code",
   "execution_count": 32,
   "metadata": {},
   "outputs": [
    {
     "name": "stdout",
     "output_type": "stream",
     "text": [
      "Give the file nameidterm.py\n",
      "File idterm.py not found.\n"
     ]
    }
   ],
   "source": [
    "def fileLength(fname):\n",
    "    try:\n",
    "        import os\n",
    "        statinfo = os.stat(fname)\n",
    "        return statinfo.st_size\n",
    "    except:\n",
    "        print('File', fname ,'not found.')\n",
    "f=input('Give the file name')\n",
    "fileLength(f)"
   ]
  },
  {
   "cell_type": "code",
   "execution_count": null,
   "metadata": {},
   "outputs": [],
   "source": []
  },
  {
   "cell_type": "code",
   "execution_count": null,
   "metadata": {},
   "outputs": [],
   "source": []
  },
  {
   "cell_type": "code",
   "execution_count": 19,
   "metadata": {},
   "outputs": [
    {
     "ename": "IndentationError",
     "evalue": "expected an indented block (<ipython-input-19-d81d44aeab88>, line 4)",
     "output_type": "error",
     "traceback": [
      "\u001b[1;36m  File \u001b[1;32m\"<ipython-input-19-d81d44aeab88>\"\u001b[1;36m, line \u001b[1;32m4\u001b[0m\n\u001b[1;33m    def __init__(self, master):\u001b[0m\n\u001b[1;37m      ^\u001b[0m\n\u001b[1;31mIndentationError\u001b[0m\u001b[1;31m:\u001b[0m expected an indented block\n"
     ]
    }
   ],
   "source": [
    "from tkinter import Tk, Label, Button, StringVar\n",
    "class Calculator:\n",
    "\n",
    "def __init__(self, master):\n",
    "        self.master = master\n",
    "        master.title(\"Calculator\")\n",
    "\n",
    "        self.total = 0\n",
    "        self.entered_number = 0\n",
    "\n",
    "        self.total_label_text = IntVar()\n",
    "        self.total_label_text.set(self.total)\n",
    "        self.total_label = Label(master, textvariable=self.total_label_text)\n",
    "\n",
    "        self.label = Label(master, text=\"Total:\")\n",
    "\n",
    "        vcmd = master.register(self.validate) # we have to wrap the command\n",
    "        self.entry = Entry(master, validate=\"key\", validatecommand=(vcmd, '%P'))\n",
    "\n",
    "        self.add_button = Button(master, text=\"+\", command=lambda: self.update(\"add\"))\n",
    "        self.subtract_button = Button(master, text=\"-\", command=lambda: self.update(\"subtract\"))\n",
    "        self.reset_button = Button(master, text=\"Reset\", command=lambda: self.update(\"reset\"))\n",
    "\n",
    "        # LAYOUT\n",
    "\n",
    "        self.label.grid(row=0, column=0, sticky=W)\n",
    "        self.total_label.grid(row=0, column=1, columnspan=2, sticky=E)\n",
    "\n",
    "        self.entry.grid(row=1, column=0, columnspan=3, sticky=W+E)\n",
    "\n",
    "        self.add_button.grid(row=2, column=0\n",
    "        self.subtract_button.grid(row=2, column=1)\n",
    "        self.reset_button.grid(row=2, column=2, sticky=W+E)\n",
    "\n",
    "def validate(self, new_text):\n",
    "        if not new_text: # the field is being cleared\n",
    "            self.entered_number = 0\n",
    "            return True\n",
    "\n",
    "        try:\n",
    "            self.entered_number = int(new_text)\n",
    "            return True\n",
    "        except ValueError:\n",
    "            return False\n",
    "\n",
    "    def update(self, method):\n",
    "        if method == \"add\":\n",
    "            self.total += self.entered_number\n",
    "        elif method == \"subtract\":\n",
    "            self.total -= self.entered_number\n",
    "        else: # reset\n",
    "            self.total = 0\n",
    "\n",
    "        self.total_label_text.set(self.total)\n",
    "        self.entry.delete(0, END)\n",
    "\n",
    "root = Tk()\n",
    "my_gui = Calculator(root)\n",
    "root.mainloop()"
   ]
  },
  {
   "cell_type": "code",
   "execution_count": 20,
   "metadata": {},
   "outputs": [
    {
     "ename": "FileNotFoundError",
     "evalue": "[Errno 2] No such file or directory: 'w3c.html'",
     "output_type": "error",
     "traceback": [
      "\u001b[1;31m---------------------------------------------------------------------------\u001b[0m",
      "\u001b[1;31mFileNotFoundError\u001b[0m                         Traceback (most recent call last)",
      "\u001b[1;32m<ipython-input-20-d019cbf071f9>\u001b[0m in \u001b[0;36m<module>\u001b[1;34m\u001b[0m\n\u001b[1;32m----> 1\u001b[1;33m \u001b[0minfile\u001b[0m \u001b[1;33m=\u001b[0m \u001b[0mopen\u001b[0m\u001b[1;33m(\u001b[0m\u001b[1;34m'w3c.html'\u001b[0m\u001b[1;33m)\u001b[0m\u001b[1;33m\u001b[0m\u001b[1;33m\u001b[0m\u001b[0m\n\u001b[0m\u001b[0;32m      2\u001b[0m \u001b[0mcontent\u001b[0m \u001b[1;33m=\u001b[0m \u001b[0minfile\u001b[0m\u001b[1;33m.\u001b[0m\u001b[0mread\u001b[0m\u001b[1;33m(\u001b[0m\u001b[1;33m)\u001b[0m\u001b[1;33m\u001b[0m\u001b[1;33m\u001b[0m\u001b[0m\n\u001b[0;32m      3\u001b[0m \u001b[0minfile\u001b[0m\u001b[1;33m.\u001b[0m\u001b[0mclose\u001b[0m\u001b[1;33m(\u001b[0m\u001b[1;33m)\u001b[0m\u001b[1;33m\u001b[0m\u001b[1;33m\u001b[0m\u001b[0m\n\u001b[0;32m      4\u001b[0m \u001b[0mhp\u001b[0m \u001b[1;33m=\u001b[0m \u001b[0mHeadingParser\u001b[0m\u001b[1;33m(\u001b[0m\u001b[1;33m)\u001b[0m\u001b[1;33m\u001b[0m\u001b[1;33m\u001b[0m\u001b[0m\n\u001b[0;32m      5\u001b[0m \u001b[0mhp\u001b[0m\u001b[1;33m.\u001b[0m\u001b[0mfeed\u001b[0m\u001b[1;33m(\u001b[0m\u001b[0mcontent\u001b[0m\u001b[1;33m)\u001b[0m\u001b[1;33m\u001b[0m\u001b[1;33m\u001b[0m\u001b[0m\n",
      "\u001b[1;31mFileNotFoundError\u001b[0m: [Errno 2] No such file or directory: 'w3c.html'"
     ]
    }
   ],
   "source": [
    " infile = open('w3c.html')\n",
    "content = infile.read()\n",
    "infile.close()\n",
    "hp = HeadingParser()\n",
    "hp.feed(content)\n"
   ]
  },
  {
   "cell_type": "code",
   "execution_count": 22,
   "metadata": {},
   "outputs": [
    {
     "name": "stdout",
     "output_type": "stream",
     "text": [
      "Encountered a start tag: html\n",
      "Encountered a start tag: head\n",
      "Encountered a start tag: title\n",
      "Encountered some data  : Test\n",
      "Encountered an end tag : title\n",
      "Encountered an end tag : head\n",
      "Encountered a start tag: body\n",
      "Encountered a start tag: h1\n",
      "Encountered some data  : Parse me!\n",
      "Encountered an end tag : h1\n",
      "Encountered an end tag : body\n",
      "Encountered an end tag : html\n"
     ]
    }
   ],
   "source": [
    "from html.parser import HTMLParser\n",
    "\n",
    "class MyHTMLParser(HTMLParser):\n",
    "    def handle_starttag(self, tag, attrs):\n",
    "        print(\"Encountered a start tag:\", tag)\n",
    "\n",
    "    def handle_endtag(self, tag):\n",
    "        print(\"Encountered an end tag :\", tag)\n",
    "\n",
    "    def handle_data(self, data):\n",
    "        print(\"Encountered some data  :\", data)\n",
    "\n",
    "parser = MyHTMLParser()\n",
    "parser.feed('<html><head><title>Test</title></head>'\n",
    "            '<body><h1>Parse me!</h1></body></html>')"
   ]
  },
  {
   "cell_type": "code",
   "execution_count": 23,
   "metadata": {},
   "outputs": [
    {
     "ename": "FileNotFoundError",
     "evalue": "[Errno 2] No such file or directory: 'w3c.html'",
     "output_type": "error",
     "traceback": [
      "\u001b[1;31m---------------------------------------------------------------------------\u001b[0m",
      "\u001b[1;31mFileNotFoundError\u001b[0m                         Traceback (most recent call last)",
      "\u001b[1;32m<ipython-input-23-995c9953d99d>\u001b[0m in \u001b[0;36m<module>\u001b[1;34m\u001b[0m\n\u001b[1;32m----> 1\u001b[1;33m \u001b[0minfile\u001b[0m \u001b[1;33m=\u001b[0m \u001b[0mopen\u001b[0m\u001b[1;33m(\u001b[0m\u001b[1;34m'w3c.html'\u001b[0m\u001b[1;33m)\u001b[0m\u001b[1;33m\u001b[0m\u001b[1;33m\u001b[0m\u001b[0m\n\u001b[0m",
      "\u001b[1;31mFileNotFoundError\u001b[0m: [Errno 2] No such file or directory: 'w3c.html'"
     ]
    }
   ],
   "source": [
    "infile = open('w3c.html')"
   ]
  },
  {
   "cell_type": "code",
   "execution_count": 26,
   "metadata": {},
   "outputs": [
    {
     "ename": "IndentationError",
     "evalue": "expected an indented block (<ipython-input-26-ef8e7df7bd72>, line 4)",
     "output_type": "error",
     "traceback": [
      "\u001b[1;36m  File \u001b[1;32m\"<ipython-input-26-ef8e7df7bd72>\"\u001b[1;36m, line \u001b[1;32m4\u001b[0m\n\u001b[1;33m    def put_in_pouch(self,name):\u001b[0m\n\u001b[1;37m      ^\u001b[0m\n\u001b[1;31mIndentationError\u001b[0m\u001b[1;31m:\u001b[0m expected an indented block\n"
     ]
    }
   ],
   "source": [
    "class Marsupial:\n",
    "    def __init__(self):\n",
    "       \n",
    "    def put_in_pouch(self,name):\n",
    "        self.items.append(name)\n",
    "    def display(self):\n",
    "        return self.items\n",
    "m1=Marsupial()\n",
    "m1.put_in_pouch(\"socks\")\n",
    "m1.put_in_pouch(\"shoes\")\n",
    "m1.display()\n",
    "class Kangaroo(Marsupial):\n",
    "    def __init__(self,x,y):\n",
    "        Marsupial.__init__(self)\n",
    "        self.x=x\n",
    "        self.y=y\n",
    "    def jump(self,dx,dy):\n",
    "        self.x=self.x+dx\n",
    "        self.y=self.y+dy\n",
    "    def __str__(self):\n",
    "        return(\"I am a kangaroo located at ({},{})\".format(self.x,self.y))\n",
    "K=Kangaroo(0,0)\n",
    "K.put_in_pouch(\"shoes\")\n",
    "K.put_in_pouch(\"socks\")\n",
    "K.display()\n",
    "K.jump(1,1)\n",
    "print(K)"
   ]
  },
  {
   "cell_type": "code",
   "execution_count": null,
   "metadata": {},
   "outputs": [],
   "source": []
  }
 ],
 "metadata": {
  "kernelspec": {
   "display_name": "Python 3",
   "language": "python",
   "name": "python3"
  },
  "language_info": {
   "codemirror_mode": {
    "name": "ipython",
    "version": 3
   },
   "file_extension": ".py",
   "mimetype": "text/x-python",
   "name": "python",
   "nbconvert_exporter": "python",
   "pygments_lexer": "ipython3",
   "version": "3.7.6"
  }
 },
 "nbformat": 4,
 "nbformat_minor": 4
}
