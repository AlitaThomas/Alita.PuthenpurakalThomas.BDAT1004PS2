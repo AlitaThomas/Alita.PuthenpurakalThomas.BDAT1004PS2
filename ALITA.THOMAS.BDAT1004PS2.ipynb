{
 "cells": [
  {
   "cell_type": "markdown",
   "metadata": {},
   "source": [
    "### Question 1\n",
    "Consider the following Python module:\n",
    "\n",
    "a = 0\n",
    "\n",
    "def b():\n",
    "\n",
    "       global a\n",
    "\n",
    "       a = c(a)\n",
    " \n",
    " def c(a):\n",
    "    \n",
    "     return a + 2\n",
    "\n",
    "After importing the module into the interpreter, you execute:\n",
    "\n",
    "\\* >>>b()\n",
    "\n",
    "\\* >>>b()\n",
    "\n",
    "\\* >>>b()\n",
    "\n",
    "\\* >>>a\n",
    "\n",
    "?\n",
    "\n",
    "What value is displayed when the last expression (a) is evaluated? Explain your\n",
    "answer by indicating what happens in every executed statement.\n",
    "\n",
    "##### Answer"
   ]
  },
  {
   "cell_type": "markdown",
   "metadata": {},
   "source": [
    "Value displayed:\n",
    "\n",
    "a = 6\n",
    "\n",
    "Explanation:\n",
    "\n",
    "Since a is a global variable during the first call, 2 gets added to 0 and now a becomes 2.\n",
    "\n",
    "Similarly, when the function is called again, \n",
    "\n",
    "now a=2 gets added with 2 making a=4.\n",
    "\n",
    "At the last step,\n",
    "\n",
    "when the statement is excecuted 4 is added to 2 and 6 is displayed.\n",
    "\n",
    "Variable a is a global variable hence each time function c() is called 2 is added to a."
   ]
  },
  {
   "cell_type": "markdown",
   "metadata": {},
   "source": [
    "### Question 2\n",
    "Function fileLength(), given to you, takes the name of a file as input and returns\n",
    "the length of the file:\n",
    "\n",
    "\\*>>> fileLength('midterm.py')\n",
    "\n",
    "284\n",
    "\n",
    "\\*>>> fileLength('idterm.py')\n",
    "\n",
    "Traceback (most recent call last):\n",
    "\n",
    "File \"<pyshell#34>\", line 1, in <module>\n",
    "\n",
    "    fileLength('idterm.py')\n",
    "\n",
    "    File \"/Users/me/midterm.py\", line 3, in fileLength\n",
    " \n",
    "    infile = open(filename)\n",
    "\n",
    "    FileNotFoundError: [Errno 2] No such file or directory:\n",
    "\n",
    "   'idterm.py'\n",
    "\n",
    "As shown above, if the file cannot be found by the interpreter or if it cannot be read\n",
    "as a text file, an exception will be raised. Modify function fileLength() so that a\n",
    "friendly message is printed instead:"
   ]
  },
  {
   "cell_type": "markdown",
   "metadata": {},
   "source": [
    "##### Answer"
   ]
  },
  {
   "cell_type": "code",
   "execution_count": 35,
   "metadata": {},
   "outputs": [
    {
     "name": "stdout",
     "output_type": "stream",
     "text": [
      "Give the file nameidterm.py\n",
      "File idterm.py not found.\n"
     ]
    }
   ],
   "source": [
    "def fileLength(fname):\n",
    "    try:\n",
    "        import os\n",
    "        statinfo = os.stat(fname)\n",
    "        return statinfo.st_size\n",
    "    except:\n",
    "        print('File', fname ,'not found.')\n",
    "f=input('Give the file name')\n",
    "fileLength(f)"
   ]
  },
  {
   "cell_type": "markdown",
   "metadata": {},
   "source": [
    "### Question 3\n",
    "Write a class named Marsupial that can be used as shown below:\n",
    "\n",
    "\\*>>> m = Marsupial()\n",
    "\n",
    "\\*>>> m.put_in_pouch('doll')\n",
    "\n",
    "\\*>>> m.put_in_pouch('firetruck')\n",
    "\n",
    "\\*>>> m.put_in_pouch('kitten')\n",
    "\n",
    "\\*>>> m.pouch_contents()\n",
    "['doll', 'firetruck', 'kitten']\n",
    "\n",
    "Now write a class named Kangaroo as a subclass of Marsupial that inherits all the\n",
    "attributes of Marsupial and also:\n",
    "\n",
    "a. extends the Marsupial __init__ constructor to take, as input, the\n",
    "coordinates x and y of the Kangaroo object,\n",
    "\n",
    "b. supports method jump that takes number values dx and dy as input and\n",
    "moves the kangaroo by dx units along the x-axis and by dy units along the yaxis, and\n",
    "\n",
    "c. overloads the __str__ operator so it behaves as shown below."
   ]
  },
  {
   "cell_type": "markdown",
   "metadata": {},
   "source": [
    "##### Answer"
   ]
  },
  {
   "cell_type": "code",
   "execution_count": 34,
   "metadata": {},
   "outputs": [
    {
     "name": "stdout",
     "output_type": "stream",
     "text": [
      "I am a Kangaroo located at coordinates (0,0)\n",
      "I am a Kangaroo located at coordinates (3,0)\n"
     ]
    }
   ],
   "source": [
    "pouch = []\n",
    "class Marsupial:\n",
    "    'class that represents a point in the plane'\n",
    "    def __init__(self,x,y):\n",
    "        'initialize rank and suit of card'\n",
    "        self.x = x\n",
    "        self.y = y\n",
    "    def jump(self, dx, dy):\n",
    "        'change the x and y coordinates by dx and dy'\n",
    "        self.x += dx\n",
    "        self.y += dy\n",
    "    def put_in_pouch(self, var):\n",
    "        'set x coordinate of point to xcoord'\n",
    "        pouch.append(var)\n",
    "    def pouch_contents(self):\n",
    "        return pouch\n",
    "class Kangaroo(Marsupial):\n",
    "    def __str__(self):\n",
    "        return \"I am a Kangaroo located at coordinates (%s,%s)\" % (self.x, self.y)\n",
    "#m = Marsupial()\n",
    "#m.put_in_pouch('doll') \n",
    "#m.put_in_pouch('firetruck') \n",
    "#m.put_in_pouch('kitten') \n",
    "#print(m.pouch_contents())\n",
    "k = Kangaroo(0,0) \n",
    "print(k)\n",
    "k.jump(1,0)\n",
    "k.jump(1,0)\n",
    "k.jump(1,0)\n",
    "print(k)\n",
    "\n"
   ]
  },
  {
   "cell_type": "markdown",
   "metadata": {},
   "source": [
    "### Question 5\n",
    "Write function collatz() that takes a positive integer x as input and prints the\n",
    "Collatz sequence starting at x. A Collatz sequence is obtained by repeatedly applying\n",
    "this rule to the previous number x in the sequence:\n",
    "    \n",
    "x = { 𝑥/2 𝑖𝑓 𝑥 𝑖𝑠 𝑒𝑣𝑒𝑛\n",
    "\n",
    "     3𝑥 + 1 𝑖𝑓 𝑥 𝑖𝑠 𝑜𝑑d}\n",
    "\n",
    "Your function should stop when the sequence gets to number 1. Your\n",
    "implementation must be recursive, without any loops."
   ]
  },
  {
   "cell_type": "markdown",
   "metadata": {},
   "source": [
    "##### Answer"
   ]
  },
  {
   "cell_type": "code",
   "execution_count": 28,
   "metadata": {},
   "outputs": [
    {
     "name": "stdout",
     "output_type": "stream",
     "text": [
      "What number would you like to use?10\n",
      "10\n",
      "5\n",
      "16\n",
      "8\n",
      "4\n",
      "2\n",
      "1\n"
     ]
    }
   ],
   "source": [
    "def collatz(number): \n",
    "    print(number) \n",
    "    if number==1:\n",
    "        return 1                 \n",
    "    elif number%2==0:\n",
    "        collatz(number // 2)\n",
    "    else:\n",
    "        collatz(3 * number + 1)\n",
    "    \n",
    "number = int(input('What number would you like to use?'))\n",
    "number = collatz(number)   # assign the result of the function to \"number\""
   ]
  },
  {
   "cell_type": "markdown",
   "metadata": {},
   "source": [
    "### Question 6\n",
    "Write a recursive method binary() that takes a non-negative\n",
    "integer n and prints the binary representation of integer n.\n",
    "\n",
    "\n",
    "##### Answer"
   ]
  },
  {
   "cell_type": "code",
   "execution_count": 36,
   "metadata": {},
   "outputs": [
    {
     "name": "stdout",
     "output_type": "stream",
     "text": [
      "What number would you like to know the binary representation of?9\n",
      "1001\n"
     ]
    }
   ],
   "source": [
    "\n",
    "def find( decimal_number ): \n",
    "    if decimal_number == 0: \n",
    "        return 0\n",
    "    else: \n",
    "        return (decimal_number % 2 + 10 *\n",
    "                find(int(decimal_number // 2))) \n",
    "decimal_number = int(input('What number would you like to know the binary representation of?'))\n",
    "print(find(decimal_number)) "
   ]
  },
  {
   "cell_type": "markdown",
   "metadata": {},
   "source": [
    "### Question 10\n",
    "Suppose list words is defined as follows:\n",
    "\n",
    "\\* >>> words = ['The', 'quick', 'brown', 'fox', 'jumps', 'over',\n",
    "'the', 'lazy', 'dog']\n",
    "\n",
    "Write list comprehension expressions that use list words and generate the following\n",
    "lists:\n",
    "\n",
    "a) ['THE', 'QUICK', 'BROWN', 'FOX', 'JUMPS', 'OVER', 'THE',\n",
    "'LAZY', 'DOG']\n",
    "\n",
    "b) ['the', 'quick', 'brown', 'fox', 'jumps', 'over', 'the',\n",
    "'lazy', 'dog']\n",
    "\n",
    "c) [3, 5, 5, 3, 5, 4, 3, 4, 3] (the list of lengths of words in list\n",
    "words).\n",
    "\n",
    "d) [['THE', 'the', 3], ['QUICK', 'quick', 5], ['BROWN',\n",
    "'brown', 5], ['FOX', 'fox', 3], ['JUMPS', 'jumps', 5],\n",
    "['OVER', 'over', 4], ['THE', 'the', 3], ['LAZY', 'lazy',\n",
    "4], ['DOG', 'dog', 3]] (the list containing a list for every word of list\n",
    "words, where each list contains the word in uppercase and lowercase and the\n",
    "length of the word.)\n",
    "\n",
    "e) ['The', 'quick', 'brown', 'fox', 'jumps', 'over', 'the',\n",
    "'lazy', 'dog'] (the list of words in list words containing 4 or more\n",
    "characters.)\n",
    "\n",
    "\n"
   ]
  },
  {
   "cell_type": "markdown",
   "metadata": {},
   "source": [
    "##### Answer"
   ]
  },
  {
   "cell_type": "code",
   "execution_count": 30,
   "metadata": {},
   "outputs": [
    {
     "name": "stdout",
     "output_type": "stream",
     "text": [
      "['THE', 'QUICK', 'BROWN', 'FOX', 'JUMPS', 'OVER', 'THE', 'LAZY', 'DOG']\n",
      "['the', 'quick', 'brown', 'fox', 'jumps', 'over', 'the', 'lazy', 'dog']\n",
      "[3, 5, 5, 3, 5, 4, 3, 4, 3]\n",
      "[('THE', 'the', 3), ('QUICK', 'quick', 5), ('BROWN', 'brown', 5), ('FOX', 'fox', 3), ('JUMPS', 'jumps', 5), ('OVER', 'over', 4), ('THE', 'the', 3), ('LAZY', 'lazy', 4), ('DOG', 'dog', 3)]\n",
      "['quick', 'brown', 'jumps', 'over', 'lazy']\n"
     ]
    }
   ],
   "source": [
    "words = ['The', 'quick', 'brown', 'fox', 'jumps', 'over', 'the', 'lazy', 'dog']\n",
    "\n",
    "upper_lst = [x.upper() for x in words]\n",
    "print(upper_lst) \n",
    "\n",
    "lower_lst = [x.lower() for x in words]\n",
    "print(lower_lst) \n",
    "\n",
    "length_lst = [len(x) for x in words]\n",
    "print(length_lst) \n",
    "\n",
    "lst_all = list(zip(upper_lst, lower_lst, length_lst))\n",
    "print(lst_all)\n",
    "\n",
    "above4_lst = [x for x in words if len(x) > 3]\n",
    "print(above4_lst) \n"
   ]
  },
  {
   "cell_type": "code",
   "execution_count": null,
   "metadata": {},
   "outputs": [],
   "source": []
  }
 ],
 "metadata": {
  "kernelspec": {
   "display_name": "Python 3",
   "language": "python",
   "name": "python3"
  },
  "language_info": {
   "codemirror_mode": {
    "name": "ipython",
    "version": 3
   },
   "file_extension": ".py",
   "mimetype": "text/x-python",
   "name": "python",
   "nbconvert_exporter": "python",
   "pygments_lexer": "ipython3",
   "version": "3.7.6"
  }
 },
 "nbformat": 4,
 "nbformat_minor": 4
}
